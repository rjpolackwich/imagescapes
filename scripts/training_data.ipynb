{
 "cells": [
  {
   "cell_type": "code",
   "execution_count": 1,
   "metadata": {},
   "outputs": [],
   "source": [
    "%matplotlib inline\n",
    "\n",
    "import os\n",
    "import sys\n",
    "import re\n",
    "import random\n",
    "import csv\n",
    "import concurrent.futures\n",
    "import collections\n",
    "from collections import deque\n",
    "import ujson as json\n",
    "import itertools\n",
    "\n",
    "\n",
    "from skyway.canvas import WNUTM5kmTiling, ProjectedUTMTiling, GeoTile, WGS84Transformer, WORLD_CRS, MAP_CRS\n",
    "from skyway.utils import itrreduce, to_gjson\n",
    "from skyway.query import QueryBuilder, opf, NodeWayRelationQuery\n",
    "from skyway.query.nominatim import Nominatim\n",
    "from skyway.query.scrape import scrape_primary_features\n",
    "import tiletanic as tt\n",
    "\n",
    "import pandas as pd\n",
    "import geopandas as gpd\n",
    "import rasterio\n",
    "import rioxarray as riox\n",
    "import numpy as np\n",
    "import shapely.ops as ops\n",
    "import shapely.geometry as geom\n",
    "from shapely.strtree import STRtree\n",
    "import skimage.io as io\n",
    "\n",
    "import vaex as vx\n",
    "\n",
    "import matplotlib.pyplot as plt\n",
    "import ipywidgets as widgets\n",
    "from ipywidgets import interact, interactive\n",
    "from IPython.display import display\n",
    "import qgrid\n",
    "from ipyleaflet import (\n",
    "    Map,\n",
    "    basemaps,\n",
    "    basemap_to_tiles,\n",
    "    Layer, LayerGroup,\n",
    "    Marker, MarkerCluster,\n",
    "    Polyline, Polygon, GeoJSON,\n",
    "    WidgetControl, ScaleControl, LayersControl, SearchControl\n",
    ")\n",
    "from sidecar import Sidecar\n",
    "\n",
    "import time\n",
    "from tqdm.notebook import tqdm\n",
    "\n",
    "import visdom"
   ]
  },
  {
   "cell_type": "code",
   "execution_count": null,
   "metadata": {},
   "outputs": [],
   "source": [
    "vis = visdom.Visdom(port=8087)"
   ]
  },
  {
   "cell_type": "code",
   "execution_count": 2,
   "metadata": {},
   "outputs": [],
   "source": [
    "DATA_PATH = \"/home/ubuntu/data/ard\"\n",
    "COG_PATH = \"/home/ubuntu/data/ard/33\"\n",
    "CHIP_PATH = \"/home/ubuntu/data/chips/33\"\n",
    "\n",
    "qkp = re.compile('^\\d{12}$')"
   ]
  },
  {
   "cell_type": "code",
   "execution_count": 3,
   "metadata": {},
   "outputs": [],
   "source": [
    "def iter_quadkey_paths(zone, data_path=DATA_PATH):\n",
    "    for item in os.listdir(os.path.join(data_path, str(zone))):\n",
    "        if qkp.match(item):\n",
    "            yield qk         \n",
    "        \n",
    "        \n",
    "def setup_query():\n",
    "    nwr_q = NodeWayRelationQuery()\n",
    "    qb = QueryBuilder()\n",
    "    qb.include_geometries()\n",
    "    qb.settings.payload_format = 'json'\n",
    "    qb.settings.maxsize = int(qb.settings.MAXSIZE_LIMIT / 2)\n",
    "    qb.qsx.append(nwr_q)\n",
    "    return qb\n",
    "\n",
    "    \n",
    "def setup_tiler(utm_zone):\n",
    "    tiler = WNUTM5kmTiling()\n",
    "    proj = ProjectedUTMTiling(zone=utm_zone, tiler=tiler)\n",
    "    return proj\n",
    " \n",
    "    \n",
    "def fetch_osm_by_quadkey(zone, data_path):\n",
    "    data_region_path = os.path.join(data_path, str(zone))\n",
    "    qkdeq = collections.deque(os.listdir(data_region_path))\n",
    "    \n",
    "    node_tags = collections.defaultdict(list)\n",
    "    way_tags = collections.defaultdict(list)\n",
    "    rel_tags = collections.defaultdict(list)\n",
    "    \n",
    "    qb = setup_query()\n",
    "    proj = setup_tiler(zone)\n",
    "    \n",
    "    pbar = tqdm(total=len(qkdeq))\n",
    "    while qkdeq:\n",
    "        qk = qkdeq.pop()\n",
    "        tile = proj.tile_from_quadkey(qk)\n",
    "        tile.toWGS84()\n",
    "        west, south, east, north = tile.bounds\n",
    "        qb.GlobalBoundingBox = [south, west, north, east]\n",
    "        print(f\"Requesting: {qk}, {tile.bounds}\")\n",
    "        print(\"\\n\")\n",
    "\n",
    "        try:\n",
    "            r = qb.request()\n",
    "            r.raise_for_status()\n",
    "            res = r.json()\n",
    "        except Exception as e:\n",
    "            print(f\"Got exception {e}, backing off and sleeping for one minute\")\n",
    "            qkdeq.append(qk)\n",
    "            time.sleep(60)\n",
    "            continue\n",
    "        \n",
    "        nodes = [elm for elm in res['elements'] if elm['type']=='node']\n",
    "        nodes_w_tags = [elm for elm in nodes if elm.get(\"tags\") is not None]\n",
    "        ways = [elm for elm in res['elements'] if elm['type']=='way']\n",
    "        ways_w_tags = [elm for elm in ways if elm.get(\"tags\") is not None]\n",
    "        rels = [elm for elm in res['elements'] if elm['type']=='relation']\n",
    "        rels_w_tags = [elm for elm in rels if elm.get(\"tags\") is not None]\n",
    "        \n",
    "        n_nodes = len(nodes)\n",
    "        n_nodes_tagged = len(nodes_w_tags)\n",
    "        n_ways = len(ways)\n",
    "        n_ways_tagged = len(ways_w_tags)\n",
    "        n_rels = len(rels)\n",
    "        n_rels_tagged = len(rels_w_tags)\n",
    "        \n",
    "        print(f\"Total elements returned: {len(res['elements'])}\")\n",
    "        \n",
    "        print(f\"Num tagged/total: Nodes({n_nodes_tagged}/{n_nodes}), Ways({n_ways_tagged}/{n_ways}), Rels({n_rels_tagged}/{n_rels})\")\n",
    "        print(f\"Total items filtered: {n_nodes_tagged + n_ways_tagged + n_rels_tagged}\")\n",
    "        \n",
    "        d = {\"quadkey\": qk, \"nodes\": nodes_w_tags, \"ways\": ways_w_tags, \"relations\": rels_w_tags}\n",
    "        fp = os.path.join(os.path.join(data_region_path, qk), \"osm_data.json\")\n",
    "        with open(fp, \"w\") as f:\n",
    "            json.dump(d, f)\n",
    "        print(f\"wrote OSM data to {fp}\")\n",
    "        \n",
    "        for elm in nodes_w_tags:\n",
    "            for key, val in elm['tags'].items():\n",
    "                node_tags[key].append(val)\n",
    "        for elm in ways_w_tags:\n",
    "            for key, val in elm['tags'].items():\n",
    "                way_tags[key].append(val)\n",
    "        for elm in rels_w_tags:\n",
    "            for key, val in elm['tags'].items():\n",
    "                rel_tags[key].append(val)\n",
    "                \n",
    "        print(\"\\n\")\n",
    "        print(\"\\n\")\n",
    "        print(\"\\n\")\n",
    "        pbar.update(1)\n",
    "        time.sleep(5)\n",
    "        \n",
    "    return (node_tags, way_tags, rel_tags) \n",
    "     \n",
    "    \n",
    "def build_tag_map(elm_type, zone, data_path):\n",
    "    tag_map = collections.defaultdict(list)\n",
    "    data_region_path = os.path.join(data_path, str(zone))\n",
    "    quadkeys = [qk for qk in os.listdir(data_region_path) if \"json\" not in qk]\n",
    "    \n",
    "    for qk in quadkeys:\n",
    "        fp = os.path.join(os.path.join(data_region_path, qk), \"osm_data.json\")\n",
    "        with open(fp, \"r\") as f:\n",
    "            data = json.load(f)\n",
    "        elms = data[elm_type + \"s\"]\n",
    "        for elm in elms:\n",
    "            for key, val in elm['tags'].items():\n",
    "                tag_map[key].append(val)\n",
    "    write_path = os.path.join(data_region_path, f\"{elm_type}_tags.json\")\n",
    "    with open(write_path, \"w\") as f:\n",
    "        json.dump(tag_map, f)\n",
    "    return tag_map\n",
    "\n",
    "\n",
    "def get_children_at_zoom(parents, child_zoom):\n",
    "    nodes = list()\n",
    "    for parent in parents:\n",
    "        if parent.zoom == child_zoom:\n",
    "            return parents\n",
    "        if parent.zoom > child_zoom:\n",
    "            raise ValueError\n",
    "        children = parent.children()\n",
    "        nodes.extend(children)\n",
    "    return get_children_at_zoom(nodes, child_zoom)\n",
    "\n",
    "\n",
    "def get_cog_paths(zone, ard_path=DATA_PATH):\n",
    "    ard_region_path = os.path.join(ard_path, str(zone))\n",
    "    proj = setup_tiler(zone)\n",
    "    quadkeys = [qk for qk in os.listdir(ard_region_path) if \"json\" not in qk]\n",
    "    cog_paths = list()\n",
    "    for qk in quadkeys:\n",
    "        parent_tile = proj.tile_from_quadkey(qk)\n",
    "        qk_ard_path = os.path.join(ard_region_path, qk)\n",
    "        acq_dates = [dt for dt in os.listdir(qk_ard_path) if \"json\" not in dt]\n",
    "        for acq_date in acq_dates:\n",
    "            ard_path = os.path.join(qk_ard_path, acq_date)\n",
    "            ard_items = os.listdir(ard_path)\n",
    "            cogfiles = [item for item in ard_items if item[-11:] == \"-visual.tif\"]\n",
    "            for cogfile in cogfiles:\n",
    "                cog_paths.append(os.path.join(ard_path, cogfile))\n",
    "    return cog_paths\n",
    "\n",
    "\n",
    "def ard_image_path_from_chip(chip_fn):\n",
    "    if chip_fn.endswith(\".jpg\"):\n",
    "        chip_fn = chip_fn[:-4]\n",
    "    qkhead, cat_id = chip_fn.split(\"_\")\n",
    "    qk_major = qkhead[4:16]\n",
    "    cog_fn = f'''{cat_id}-visual.tif'''\n",
    "    qk_cog_path = os.path.join(COG_PATH, qk_major)\n",
    "    \n",
    "    for date_dir in os.listdir(qk_cog_path):\n",
    "        full_cog_path = os.path.join(os.path.join(qk_cog_path, date_dir), cog_fn)\n",
    "        if os.path.exists(full_cog_path):\n",
    "            return full_cog_path\n",
    "    raise OSError(\"File not found\")\n",
    "        "
   ]
  },
  {
   "cell_type": "code",
   "execution_count": 4,
   "metadata": {},
   "outputs": [],
   "source": [
    "def early_osm_inference():\n",
    "    with open(\"/home/ubuntu/data/ard/33/node_tags.json\") as f:\n",
    "        node_tags = json.load(f)\n",
    "\n",
    "    with open(\"/home/ubuntu/data/ard/33/way_tags.json\") as f:\n",
    "        way_tags = json.load(f)\n",
    "\n",
    "    with open(\"/home/ubuntu/data/ard/33/rel_tags.json\") as f:\n",
    "        rel_tags = json.load(f)\n",
    "\n",
    "    ntag_counts = {key: collections.Counter(val) for key, val in node_tags.items()}\n",
    "    wtag_counts = {key: collections.Counter(val) for key, val in way_tags.items()}\n",
    "    rtag_counts = {key: collections.Counter(val) for key, val in rel_tags.items()}\n",
    "\n",
    "    node_keycounts = sorted([(key, len(val)) for key, val in node_tags.items()], key=lambda t: t[-1], reverse=True)\n",
    "    way_keycounts = sorted([(key, len(val)) for key, val in way_tags.items()], key=lambda t: t[-1], reverse=True)\n",
    "    rel_keycounts = sorted([(key, len(val)) for key, val in rel_tags.items()], key=lambda t: t[-1], reverse=True)\n",
    "\n",
    "    #wtags_ordered = sorted([(key, wtag_counts[key].most_common(1)) for key, val in wtag_counts.items()], key=lambda t: t[-1][-1][-1], reverse=True)\n",
    "    #wtags_ordered[:50]\n",
    "    \n",
    "    \n",
    "## Load nodata scores map\n",
    "def load_nodata_scores():\n",
    "    with open(\"/home/ubuntu/data/chips/33/nodata_index.json\", \"r\") as f:\n",
    "        ndix = json.load(f)\n",
    "    return ndix"
   ]
  },
  {
   "cell_type": "code",
   "execution_count": 5,
   "metadata": {},
   "outputs": [],
   "source": [
    "#tags, tables = scrape_primary_features(up_to=True)\n",
    "\n",
    "def osm_tables_to_kv(tables):\n",
    "    legal = collections.defaultdict(lambda: collections.defaultdict(list))\n",
    "    restricted = collections.defaultdict(lambda: collections.defaultdict(list))\n",
    "    for topic, kvd in tables.items():\n",
    "        for key, val_list in kvd.items():\n",
    "            for val in val_list:\n",
    "                try:\n",
    "                    tag_val, desc = val\n",
    "                    if \" \" in tag_val and tag_val.lower() != \"user defined\":\n",
    "                        restricted[topic][key].append(tag_val)\n",
    "                    else:\n",
    "                        legal[topic][key].append(tag_val)\n",
    "                except ValueError:\n",
    "                    restricted[topic][key].append(val)\n",
    "    return legal, restricted\n",
    "\n",
    "\n",
    "def discriminate_tagschemes():            \n",
    "    kvd_legal, kvd_restricted = osm_tables_to_kv(tables)\n",
    "    kvd_legal.update(tags)\n",
    "    \n",
    "\n",
    "def get_all_tagkeys(keytag_dict):\n",
    "    tagkeys = list()\n",
    "    for key, val_list in keytag_dict.items():\n",
    "        for val in val_list:\n",
    "            tagkeys.append(val)\n",
    "    return tagkeys\n",
    "\n",
    "\n",
    "#tagkeys_legal = get_all_tagkeys(kvd_legal)\n",
    "def compile_all_tagschema():\n",
    "    all_tagkeys = [t for t in tagkeys_legal]\n",
    "    for topic, keydict in kvd_restricted.items():\n",
    "        all_tagkeys.extend(list(keydict.keys()))\n",
    "    \n",
    "    kvd_all = collections.defaultdict(lambda: collections.defaultdict(list))\n",
    "    for d in [kvd_legal, kvd_restricted]:\n",
    "        for topic, keydict in d.items():\n",
    "            for tagkey, tagvals in keydict.items():\n",
    "                for tagval in tagvals:\n",
    "                    kvd_all[topic][tagkey].append(tagval)\n",
    "    return kvd_all\n",
    "\n",
    "def comile_all_primary_keys(kvd_all):\n",
    "    all_primary_keys = list()\n",
    "    for topic, keydict in kvd_all.items():\n",
    "        for key in keydict:\n",
    "            all_primary_keys.append(key)\n",
    "    return all_primary_keys\n",
    "        \n",
    "\n",
    "def primary_key_element_stats(all_primary_keys):\n",
    "    ntag_counts_f = {k: v for k, v in ntag_counts.items() if k in all_primary_keys}\n",
    "    wtag_counts_f = {k: v for k, v in wtag_counts.items() if k in all_primary_keys}\n",
    "    rtag_counts_f = {k: v for k, v in rtag_counts.items() if k in all_primary_keys}\n",
    "    return (ntag_counts_f, wtag_counts_f, rtag_counts_f)\n",
    "    \n",
    "    \n",
    "def tabulate_element_primary_stats(outfile=\"/home/ubuntu/data/osm/primary_keytags.csv\", overwrite=False):\n",
    "    if os.path.exists(outfile) and not overwrite:\n",
    "        return False\n",
    "    with open(outfile, \"w\") as f:\n",
    "        writer = csv.writer(f)\n",
    "        writer.writerow([\"Topic\", \"TagKey\", \"NodeCount\", \"WayCount\", \"RelCount\"])\n",
    "        for topic, keydict in kvd_all.items():\n",
    "            for key in keydict.keys():\n",
    "                nc, wc, rc = (0, 0, 0)\n",
    "                if ntag_counts_f.get(key):\n",
    "                    nc = sum([t[-1] for t in ntag_counts_f[key].items()])\n",
    "                if wtag_counts_f.get(key):\n",
    "                    wc = sum([t[-1] for t in wtag_counts_f[key].items()])\n",
    "                if rtag_counts_f.get(key):\n",
    "                    rc = sum([t[-1] for t in rtag_counts_f[key].items()])\n",
    "                writer.writerow([topic, key, nc, wc, rc])\n",
    "                \n",
    "\n",
    "def load_dataset_with_filtercol(infile=\"/home/ubuntu/data/osm/primary_keytags.csv\"):\n",
    "    key_dist = pd.read_csv(infile)\n",
    "    default_selections = [True]*len(key_dist)\n",
    "    key_dist['Selected'] = default_selections\n",
    "    return key_dist\n",
    "\n",
    "\n",
    "def filter_tagkeys_from_selection(key_dist_f):\n",
    "    key_dist_f[key_dist_f['Selected'] == True]\n",
    "    all_filtered_keys = list(key_dist_filtered.TagKey.values)\n",
    "    return all_filtered_keys\n",
    "\n",
    "\n",
    "def load_complete_primary_features_description(infile=\"/home/ubuntu/data/osm/primary_features.json\"):\n",
    "    with open(infile) as f:\n",
    "        return json.load(f)\n",
    "    \n",
    "\n",
    "def filter_osm_by_region(osm_keys, out_file=\"primary_osm_data_filtered.json\", in_file=\"osm_data.json\", data_path=COG_PATH):\n",
    "    quadkeys = [item for item in os.listdir(data_path) if qkp.match(item)]\n",
    "    for qk in tqdm(quadkeys):\n",
    "        print(qk)\n",
    "        infile = os.path.join(os.path.join(data_path, qk), in_file)\n",
    "        outfile = os.path.join(os.path.join(data_path, qk), out_file)\n",
    "        filter_osm_data(osm_keys, qk, infile, outfile)\n",
    "        print(\"\\n\")\n",
    "    \n",
    "def filter_osm_data(osm_keys, quadkey, infile, outfile):\n",
    "    d = dict()\n",
    "    d['quadkey'] = quadkey\n",
    "    d['nodes'] = list()\n",
    "    d['ways'] = list()\n",
    "    d['relations'] = list()\n",
    "\n",
    "    all_keys_set = set(osm_keys)\n",
    "\n",
    "    with open(infile) as f:\n",
    "        raw = json.load(f)\n",
    "        for elm_type in ['nodes', \"ways\", \"relations\"]:\n",
    "            raw_elms = raw[elm_type]\n",
    "            print(f'''raw {elm_type} length: {len(raw_elms)}''')\n",
    "            for elm in raw_elms:\n",
    "                tags = elm.get('tags')\n",
    "                elm_keys_set = set(list(tags.keys()))\n",
    "                primary_intr = all_keys_set.intersection(elm_keys_set)\n",
    "                if len(primary_intr) > 0:\n",
    "                    new_elm = dict()\n",
    "                    new_elm['type'] = elm['type']\n",
    "                    new_elm['id'] = elm['id']\n",
    "                    new_elm['tags'] = [{tk: elm['tags'][tk] for tk in primary_intr}]\n",
    "                    if elm['type'] == \"node\":\n",
    "                        new_elm['lat'] = elm['lat']\n",
    "                        new_elm['lon'] = elm['lon']\n",
    "                    if elm['type'] == 'way':\n",
    "                        new_elm['geometry'] = elm['geometry']\n",
    "                    if elm['type'] == 'relation':\n",
    "                        new_elm['members'] = elm['members']\n",
    "                    d[elm_type].append(elm)\n",
    "        \n",
    "                \n",
    "    with open(outfile, \"w\") as ff:\n",
    "        json.dump(d, ff)\n",
    "        \n",
    "    print(f'''filtered nodes length: {len(d['nodes'])}''')\n",
    "    print(f'''filtered ways length: {len(d['ways'])}''')\n",
    "    print(f'''filtered relations length: {len(d['relations'])}''')\n",
    "    \n",
    "# filter_osm_by_region(all_filtered_keys)"
   ]
  },
  {
   "cell_type": "code",
   "execution_count": 6,
   "metadata": {},
   "outputs": [],
   "source": [
    "def get_primary_keys_filtered(infile=\"/home/ubuntu/data/osm/primary_keys_filtered.csv\"):\n",
    "    kvd_filt = pd.read_csv()\n",
    "    kvd_filt = kvd_filt.drop(columns=[\"Unnamed: 0\", \"Selected\"])\n",
    "    return kvd_filt"
   ]
  },
  {
   "cell_type": "code",
   "execution_count": 7,
   "metadata": {},
   "outputs": [],
   "source": [
    "def quadkey_regex(zoom=12):\n",
    "    return re.compile(f\"\"\"'^\\d{zoom}$'\"\"\")\n",
    "\n",
    "\n",
    "def setup_tiler(utm_zone):\n",
    "    tiler = WNUTM5kmTiling()\n",
    "    proj = ProjectedUTMTiling(zone=utm_zone, tiler=tiler)\n",
    "    return proj\n",
    "\n",
    "\n",
    "def get_children_at_zoom(parents, child_zoom):\n",
    "    nodes = list()\n",
    "    for parent in parents:\n",
    "        if parent.zoom == child_zoom:\n",
    "            return parents\n",
    "        if parent.zoom > child_zoom:\n",
    "            raise ValueError\n",
    "        children = parent.children()\n",
    "        nodes.extend(children)\n",
    "    return get_children_at_zoom(nodes, child_zoom)\n",
    "\n",
    "\n",
    "def get_osm_elements(in_file, elm_type=None):\n",
    "    with open(in_file) as f:\n",
    "        d = json.load(f)\n",
    "        if not elm_type:\n",
    "            return d\n",
    "        return d[elm_type]\n",
    "    \n",
    "    \n",
    "def build_elm_geom(elmd):\n",
    "    if elmd.get('type') == \"node\":\n",
    "        return geom.Point((elmd['lon'], elmd['lat']))\n",
    "    coords = elmd['geometry']\n",
    "    geomtype = geom.LineString\n",
    "    if coords[0] == coords[-1]:\n",
    "        geomtype = geom.Polygon\n",
    "    return geomtype([(p['lon'], p['lat']) for p in coords])\n",
    "\n",
    "    \n",
    "def build_osm_rtree(osm_file, elm_types=(\"nodes\", \"ways\"), **kwargs):\n",
    "    elements = get_osm_elements(osm_file, **kwargs)\n",
    "    elm_geom_map = dict((elmd['id'], [build_elm_geom(elmd), elmd]) for \n",
    "                        elmtype in elm_types for elmd in elements[elmtype])\n",
    "    # Include the osm data map so don't have to look up again downstream\n",
    "    hash_lut = dict((id(elm_geom), osm_id) for osm_id, (elm_geom, elmd) in elm_geom_map.items())\n",
    "    \n",
    "    tree = STRtree([v[0] for v in elm_geom_map.values()])\n",
    "    # Return the osm-id: (geom, osm payload element), the geom sys id: osm-id proxy and the rtree \n",
    "    return (elm_geom_map, hash_lut, tree)\n",
    "\n",
    "\n",
    "def map_elms_to_tilechildren(utm_zone,\n",
    "                             quadkey,\n",
    "                             dst_zoom,\n",
    "                             osm_filename=\"primary_osm_data_filtered.json\",\n",
    "                             primary_keys_path=\"/home/ubuntu/data/osm/primary_keys_filtered.csv\"\n",
    "                            ):\n",
    "    \n",
    "    osm_schema = get_primary_keys_filtered(primary_keys_path)\n",
    "    primary_taglist = [v for _, v in osm_schema.TagKey.items()]\n",
    "    \n",
    "    proj = setup_tiler(utm_zone)\n",
    "    parent_tile = proj.tile_from_quadkey(quadkey)\n",
    "\n",
    "    osm_file = COG_PATH + f'''/{quadkey}/{osm_filename}'''\n",
    "    \n",
    "    egm, lut, tree = build_osm_rtree(osm_file)\n",
    "    tile_children = get_children_at_zoom([parent_tile], dst_zoom)\n",
    "    \n",
    "    record_file = COG_PATH + f'''/{quadkey}/qk_label_record.csv'''\n",
    "    with open(record_file, \"w\") as rf:\n",
    "        writer = csv.writer(rf)\n",
    "        writer.writerow([\"TileQuadkey\", \"PrimaryKey\", \"KeyValue\", \"OSMID\", \"ElmType\"])\n",
    "        n=0\n",
    "        for ctile in tile_children:\n",
    "            ctile.toWGS84()\n",
    "            g = geom.shape(ctile)\n",
    "            results = [(lut[id(elm_geom)], elm_geom.wkt) for elm_geom in tree.query(g)]\n",
    "            for osm_id, wktgeom in results:\n",
    "                osmd = egm[osm_id][-1]\n",
    "                tags = osmd['tags']\n",
    "                ptags, vals = zip(*[(k, v) for k, v in tags.items() if k in primary_taglist])\n",
    "                if len(ptags) > 1:\n",
    "                    ptags = \"; \".join(ptags)\n",
    "                    vals = \"; \".join(vals)\n",
    "                elif len(ptags) == 0:\n",
    "                    continue\n",
    "                else:\n",
    "                    ptags = ptags[0]\n",
    "                    vals = vals[0]\n",
    "\n",
    "                writer.writerow([ctile.quadkey, ptags, vals, osm_id, osmd['type']])\n",
    "                n += 1\n",
    "    print(f'''wrote {n} rows for quadkey {quadkey}''')\n",
    "    return record_file\n",
    "        \n",
    "                 "
   ]
  },
  {
   "cell_type": "code",
   "execution_count": 9,
   "metadata": {},
   "outputs": [],
   "source": [
    "#dd = vx.open('/home/ubuntu/data/ard/33/*/qk_label_record.csv', dtype=str, convert=\"/home/ubuntu/data/master_label_record.hdf5\")\n",
    "dd_filt = vx.open('/home/ubuntu/data/master_label_record_ndfiltered.hdf5')"
   ]
  },
  {
   "cell_type": "code",
   "execution_count": 29,
   "metadata": {},
   "outputs": [
    {
     "data": {
      "text/html": [
       "<table>\n",
       "<thead>\n",
       "<tr><th>#                             </th><th>TileQuadkey      </th><th>PrimaryKey                                         </th><th>KeyValue                                     </th><th>OSMID     </th><th>ElmType  </th></tr>\n",
       "</thead>\n",
       "<tbody>\n",
       "<tr><td><i style='opacity: 0.6'>0</i> </td><td>01331330320202201</td><td>&#x27;addr:housenumber; addr:postcode; addr:street; a...</td><td>1; 16775; Friedrichsthaler Weg; Nassenheide  </td><td>3850738657</td><td>node     </td></tr>\n",
       "<tr><td><i style='opacity: 0.6'>1</i> </td><td>01331332121330103</td><td>building                                           </td><td>shed                                         </td><td>317071074 </td><td>way      </td></tr>\n",
       "<tr><td><i style='opacity: 0.6'>2</i> </td><td>01331332103230213</td><td>&#x27;addr:housenumber; addr:postcode; addr:street; a...</td><td>36K; 10405; Prenzlauer Allee; Prenzlauer Berg</td><td>3042132619</td><td>node     </td></tr>\n",
       "<tr><td><i style='opacity: 0.6'>3</i> </td><td>01331332122322031</td><td>waterway                                           </td><td>ditch                                        </td><td>246475785 </td><td>way      </td></tr>\n",
       "<tr><td><i style='opacity: 0.6'>4</i> </td><td>01331332031130131</td><td>bicycle; foot; highway; name                       </td><td>yes; yes; track; Schildhornweg               </td><td>31435564  </td><td>way      </td></tr>\n",
       "<tr><td>...                           </td><td>...              </td><td>...                                                </td><td>...                                          </td><td>...       </td><td>...      </td></tr>\n",
       "<tr><td><i style='opacity: 0.6'>95</i></td><td>01331332120201221</td><td>highway                                            </td><td>path                                         </td><td>107235990 </td><td>way      </td></tr>\n",
       "<tr><td><i style='opacity: 0.6'>96</i></td><td>01331332102110330</td><td>amenity                                            </td><td>parking                                      </td><td>32386625  </td><td>way      </td></tr>\n",
       "<tr><td><i style='opacity: 0.6'>97</i></td><td>01331332103222233</td><td>highway                                            </td><td>footway                                      </td><td>254523905 </td><td>way      </td></tr>\n",
       "<tr><td><i style='opacity: 0.6'>98</i></td><td>01331332103012031</td><td>building                                           </td><td>yes                                          </td><td>418321938 </td><td>way      </td></tr>\n",
       "<tr><td><i style='opacity: 0.6'>99</i></td><td>01331332121010021</td><td>highway; name; oneway; sidewalk                    </td><td>secondary; Holzmarktstraße; yes; right       </td><td>708296765 </td><td>way      </td></tr>\n",
       "</tbody>\n",
       "</table>"
      ],
      "text/plain": [
       "#    TileQuadkey        PrimaryKey                                           KeyValue                                       OSMID       ElmType\n",
       "0    01331330320202201  'addr:housenumber; addr:postcode; addr:street; a...  1; 16775; Friedrichsthaler Weg; Nassenheide    3850738657  node\n",
       "1    01331332121330103  building                                             shed                                           317071074   way\n",
       "2    01331332103230213  'addr:housenumber; addr:postcode; addr:street; a...  36K; 10405; Prenzlauer Allee; Prenzlauer Berg  3042132619  node\n",
       "3    01331332122322031  waterway                                             ditch                                          246475785   way\n",
       "4    01331332031130131  bicycle; foot; highway; name                         yes; yes; track; Schildhornweg                 31435564    way\n",
       "...  ...                ...                                                  ...                                            ...         ...\n",
       "95   01331332120201221  highway                                              path                                           107235990   way\n",
       "96   01331332102110330  amenity                                              parking                                        32386625    way\n",
       "97   01331332103222233  highway                                              footway                                        254523905   way\n",
       "98   01331332103012031  building                                             yes                                            418321938   way\n",
       "99   01331332121010021  highway; name; oneway; sidewalk                      secondary; Holzmarktstraße; yes; right         708296765   way"
      ]
     },
     "execution_count": 29,
     "metadata": {},
     "output_type": "execute_result"
    }
   ],
   "source": [
    "dd.sample(n=100, random_state=42)"
   ]
  },
  {
   "cell_type": "code",
   "execution_count": null,
   "metadata": {},
   "outputs": [],
   "source": [
    "# Almost 3 million ground truths!"
   ]
  },
  {
   "cell_type": "code",
   "execution_count": 58,
   "metadata": {},
   "outputs": [],
   "source": [
    "#dd_filt.export_hdf5(\"/home/ubuntu/data/master_label_record_ndfiltered.hdf5\")"
   ]
  },
  {
   "cell_type": "code",
   "execution_count": 65,
   "metadata": {},
   "outputs": [],
   "source": []
  },
  {
   "cell_type": "code",
   "execution_count": 27,
   "metadata": {},
   "outputs": [],
   "source": [
    "del dd_filt"
   ]
  },
  {
   "cell_type": "code",
   "execution_count": 28,
   "metadata": {},
   "outputs": [
    {
     "data": {
      "text/plain": [
       "30519"
      ]
     },
     "execution_count": 28,
     "metadata": {},
     "output_type": "execute_result"
    }
   ],
   "source": [
    "building_quads = gds.mor[gds.mor.PrimaryKey.str.contains(\"building\") & gds.mor.KeyValue.str.contains(\"yes\")].TileQuadkey.unique()\n",
    "len(building_quads)"
   ]
  },
  {
   "cell_type": "code",
   "execution_count": 26,
   "metadata": {},
   "outputs": [
    {
     "data": {
      "text/plain": [
       "30519"
      ]
     },
     "execution_count": 26,
     "metadata": {},
     "output_type": "execute_result"
    }
   ],
   "source": []
  },
  {
   "cell_type": "code",
   "execution_count": 35,
   "metadata": {},
   "outputs": [],
   "source": [
    "class GlobalDataSecretary:\n",
    "    def __init__(self,\n",
    "                 data_path=\"/home/ubuntu/data\",\n",
    "                 label_schema=\"labels.json\",\n",
    "                 nodata_index=\"chips/33/nodata_index.json\",\n",
    "                 master_osm_record=\"master_label_record_ndfiltered.hdf5\",\n",
    "                 ):\n",
    "        \n",
    "        self.data_path = data_path\n",
    "        if label_schema:\n",
    "            with open(os.path.join(self.data_path, label_schema)) as s:\n",
    "                self.label_schema = json.load(s)\n",
    "        \n",
    "        if nodata_index:\n",
    "            p = os.path.join(self.data_path, nodata_index)\n",
    "            print(p)\n",
    "            with open(p) as s:\n",
    "                self.features = json.load(s)[\"all_data\"]\n",
    "        \n",
    "        self.mor = vx.open(os.path.join(self.data_path, master_osm_record))\n",
    "        self._qkf_map = None\n",
    "        self._qkl_map = None\n",
    "        self.dense_enc = None\n",
    "        self.sparse_enc = None\n",
    "        \n",
    "    @property\n",
    "    def qkfeature_map(self):\n",
    "        \"quadkeys -> [feature1, ...]\"\n",
    "        if not self._qkf_map:\n",
    "            self._qkf_map = collections.defaultdict(list)\n",
    "            for ftr in self.features:\n",
    "                self._qkf_map[ftr[4:21]].append(ftr)\n",
    "        return self._qkf_map\n",
    "    \n",
    "    @property\n",
    "    def qklabel_map(self):\n",
    "        \"quadkeys -> [label1, ...]\"\n",
    "        if not self._qkl_map:\n",
    "            self._qkl_map = collections.defaultdict(list)\n",
    "        return self._qkl_map\n",
    "        \n",
    "        \n",
    "    def filter_record_by_label(self, label=None, schema=None):\n",
    "        if not schema:\n",
    "            schema = self.label_schema[label]\n",
    "        containers = []\n",
    "        for key, vals in schema.items():\n",
    "            vals_regex = \"|\".join(vals)\n",
    "            qk_containers = self.mor[self.mor.PrimaryKey.str.contains(key) & self.mor.KeyValue.str.contains(vals_regex)].TileQuadkey.unique()\n",
    "            containers.extend(qk_containers)\n",
    "        containers = list(set(containers))\n",
    "        for qk in containers:\n",
    "            self.qklabel_map[qk].append(label)\n",
    "        \n",
    "    \n",
    "    def filter_record_by_qk(self, retain=None):\n",
    "        self.mor_f = self.mor[self.mor.TileQuadkey.isin(retain)]\n",
    "        return self.mor_f\n",
    "    \n",
    "    def dense_encode_labels(self, label_schema=None, overwrite=False, update=True):\n",
    "        pass\n",
    "        \n",
    "        \n",
    "        \n",
    "    \n",
    "        \n",
    "            \n",
    "        "
   ]
  },
  {
   "cell_type": "code",
   "execution_count": 36,
   "metadata": {},
   "outputs": [
    {
     "name": "stdout",
     "output_type": "stream",
     "text": [
      "/home/ubuntu/data/chips/33/nodata_index.json\n"
     ]
    }
   ],
   "source": [
    "gds = GlobalDataSecretary()"
   ]
  },
  {
   "cell_type": "code",
   "execution_count": 29,
   "metadata": {},
   "outputs": [],
   "source": [
    "grass = gds.label_schema['Grassland']"
   ]
  },
  {
   "cell_type": "code",
   "execution_count": 31,
   "metadata": {},
   "outputs": [
    {
     "data": {
      "text/html": [
       "<table>\n",
       "<thead>\n",
       "<tr><th>#                                 </th><th>TileQuadkey      </th><th>PrimaryKey                 </th><th>KeyValue                </th><th>OSMID    </th><th>ElmType  </th></tr>\n",
       "</thead>\n",
       "<tbody>\n",
       "<tr><td><i style='opacity: 0.6'>0</i>     </td><td>01331330231232131</td><td>natural                    </td><td>scrub                   </td><td>381437605</td><td>way      </td></tr>\n",
       "<tr><td><i style='opacity: 0.6'>1</i>     </td><td>01331330231232133</td><td>natural                    </td><td>scrub                   </td><td>381186374</td><td>way      </td></tr>\n",
       "<tr><td><i style='opacity: 0.6'>2</i>     </td><td>01331330231232133</td><td>natural                    </td><td>scrub                   </td><td>381437605</td><td>way      </td></tr>\n",
       "<tr><td><i style='opacity: 0.6'>3</i>     </td><td>01331330231232300</td><td>landuse; leaf_type; natural</td><td>forest; mixed; grassland</td><td>493042596</td><td>way      </td></tr>\n",
       "<tr><td><i style='opacity: 0.6'>4</i>     </td><td>01331330231232301</td><td>landuse; leaf_type; natural</td><td>forest; mixed; grassland</td><td>493042596</td><td>way      </td></tr>\n",
       "<tr><td>...                               </td><td>...              </td><td>...                        </td><td>...                     </td><td>...      </td><td>...      </td></tr>\n",
       "<tr><td><i style='opacity: 0.6'>24,417</i></td><td>01331332301103122</td><td>natural                    </td><td>scrub                   </td><td>111869022</td><td>way      </td></tr>\n",
       "<tr><td><i style='opacity: 0.6'>24,418</i></td><td>01331332301122220</td><td>natural                    </td><td>scrub                   </td><td>839852966</td><td>way      </td></tr>\n",
       "<tr><td><i style='opacity: 0.6'>24,419</i></td><td>01331332301122220</td><td>natural                    </td><td>scrub                   </td><td>839852965</td><td>way      </td></tr>\n",
       "<tr><td><i style='opacity: 0.6'>24,420</i></td><td>01331332301122222</td><td>natural                    </td><td>scrub                   </td><td>839852966</td><td>way      </td></tr>\n",
       "<tr><td><i style='opacity: 0.6'>24,421</i></td><td>01331332301122222</td><td>natural                    </td><td>scrub                   </td><td>839852965</td><td>way      </td></tr>\n",
       "</tbody>\n",
       "</table>"
      ],
      "text/plain": [
       "#       TileQuadkey        PrimaryKey                   KeyValue                  OSMID      ElmType\n",
       "0       01331330231232131  natural                      scrub                     381437605  way\n",
       "1       01331330231232133  natural                      scrub                     381186374  way\n",
       "2       01331330231232133  natural                      scrub                     381437605  way\n",
       "3       01331330231232300  landuse; leaf_type; natural  forest; mixed; grassland  493042596  way\n",
       "4       01331330231232301  landuse; leaf_type; natural  forest; mixed; grassland  493042596  way\n",
       "...     ...                ...                          ...                       ...        ...\n",
       "24,417  01331332301103122  natural                      scrub                     111869022  way\n",
       "24,418  01331332301122220  natural                      scrub                     839852966  way\n",
       "24,419  01331332301122220  natural                      scrub                     839852965  way\n",
       "24,420  01331332301122222  natural                      scrub                     839852966  way\n",
       "24,421  01331332301122222  natural                      scrub                     839852965  way"
      ]
     },
     "execution_count": 31,
     "metadata": {},
     "output_type": "execute_result"
    }
   ],
   "source": [
    "grass_quads = gds.mor[gds.mor.PrimaryKey.str.contains(\"natural\") & gds.mor.KeyValue.str.contains(\"heath|grassland|scrub\")]\n",
    "grass_quads"
   ]
  },
  {
   "cell_type": "code",
   "execution_count": 38,
   "metadata": {},
   "outputs": [],
   "source": [
    "gds.filter_record_by_label(\"Grassland\")"
   ]
  },
  {
   "cell_type": "code",
   "execution_count": 15,
   "metadata": {},
   "outputs": [
    {
     "data": {
      "text/plain": [
       "22719"
      ]
     },
     "execution_count": 15,
     "metadata": {},
     "output_type": "execute_result"
    }
   ],
   "source": [
    "len(gds.qklabel_map)"
   ]
  },
  {
   "cell_type": "code",
   "execution_count": 16,
   "metadata": {},
   "outputs": [
    {
     "data": {
      "text/plain": [
       "dict_keys(['Grassland', 'Wood', 'Forest', 'Residential', 'Railway', 'Building', 'House', 'Road', 'Water', 'Parking', 'Pool', 'Park', 'Soccer'])"
      ]
     },
     "execution_count": 16,
     "metadata": {},
     "output_type": "execute_result"
    }
   ],
   "source": [
    "gds.label_schema.keys()"
   ]
  },
  {
   "cell_type": "code",
   "execution_count": 40,
   "metadata": {},
   "outputs": [
    {
     "name": "stdout",
     "output_type": "stream",
     "text": [
      "32004\n"
     ]
    }
   ],
   "source": [
    "gds.filter_record_by_label(\"Wood\")\n",
    "print(len(gds.qklabel_map))"
   ]
  },
  {
   "cell_type": "code",
   "execution_count": 41,
   "metadata": {},
   "outputs": [
    {
     "name": "stdout",
     "output_type": "stream",
     "text": [
      "42222\n"
     ]
    }
   ],
   "source": [
    "gds.filter_record_by_label(\"Forest\")\n",
    "print(len(gds.qklabel_map))"
   ]
  },
  {
   "cell_type": "code",
   "execution_count": 42,
   "metadata": {},
   "outputs": [
    {
     "name": "stdout",
     "output_type": "stream",
     "text": [
      "57060\n"
     ]
    }
   ],
   "source": [
    "gds.filter_record_by_label(\"Residential\")\n",
    "print(len(gds.qklabel_map))"
   ]
  },
  {
   "cell_type": "code",
   "execution_count": 43,
   "metadata": {},
   "outputs": [
    {
     "name": "stdout",
     "output_type": "stream",
     "text": [
      "61353\n"
     ]
    }
   ],
   "source": [
    "gds.filter_record_by_label(\"Railway\")\n",
    "print(len(gds.qklabel_map))"
   ]
  },
  {
   "cell_type": "code",
   "execution_count": 44,
   "metadata": {},
   "outputs": [
    {
     "name": "stdout",
     "output_type": "stream",
     "text": [
      "62162\n"
     ]
    }
   ],
   "source": [
    "gds.filter_record_by_label(\"Building\")\n",
    "print(len(gds.qklabel_map))"
   ]
  },
  {
   "cell_type": "code",
   "execution_count": 45,
   "metadata": {},
   "outputs": [
    {
     "name": "stdout",
     "output_type": "stream",
     "text": [
      "62186\n"
     ]
    }
   ],
   "source": [
    "gds.filter_record_by_label(\"House\")\n",
    "print(len(gds.qklabel_map))"
   ]
  },
  {
   "cell_type": "code",
   "execution_count": 46,
   "metadata": {},
   "outputs": [
    {
     "name": "stdout",
     "output_type": "stream",
     "text": [
      "69898\n"
     ]
    }
   ],
   "source": [
    "gds.filter_record_by_label(\"Road\")\n",
    "print(len(gds.qklabel_map))"
   ]
  },
  {
   "cell_type": "code",
   "execution_count": 47,
   "metadata": {},
   "outputs": [
    {
     "name": "stdout",
     "output_type": "stream",
     "text": [
      "70492\n"
     ]
    }
   ],
   "source": [
    "gds.filter_record_by_label(\"Water\")\n",
    "print(len(gds.qklabel_map))"
   ]
  },
  {
   "cell_type": "code",
   "execution_count": 48,
   "metadata": {},
   "outputs": [
    {
     "name": "stdout",
     "output_type": "stream",
     "text": [
      "70500\n"
     ]
    }
   ],
   "source": [
    "gds.filter_record_by_label(\"Parking\")\n",
    "print(len(gds.qklabel_map))"
   ]
  },
  {
   "cell_type": "code",
   "execution_count": 49,
   "metadata": {},
   "outputs": [
    {
     "name": "stdout",
     "output_type": "stream",
     "text": [
      "70500\n"
     ]
    }
   ],
   "source": [
    "gds.filter_record_by_label(\"Pool\")\n",
    "print(len(gds.qklabel_map))"
   ]
  },
  {
   "cell_type": "code",
   "execution_count": 50,
   "metadata": {},
   "outputs": [
    {
     "name": "stdout",
     "output_type": "stream",
     "text": [
      "70538\n"
     ]
    }
   ],
   "source": [
    "gds.filter_record_by_label(\"Park\")\n",
    "print(len(gds.qklabel_map))"
   ]
  },
  {
   "cell_type": "code",
   "execution_count": 51,
   "metadata": {},
   "outputs": [
    {
     "name": "stdout",
     "output_type": "stream",
     "text": [
      "70544\n"
     ]
    }
   ],
   "source": [
    "gds.filter_record_by_label(\"Soccer\")\n",
    "print(len(gds.qklabel_map))"
   ]
  },
  {
   "cell_type": "code",
   "execution_count": 57,
   "metadata": {},
   "outputs": [],
   "source": [
    "with open(\"/home/ubuntu/data/dense_encodings.csv\", \"w\") as f:\n",
    "    writer = csv.writer(f)\n",
    "    writer.writerow([\"Feature\", \"Labels\"])\n",
    "    for qk, labels in gds.qklabel_map.items():\n",
    "        labels = list(set(labels))\n",
    "        dense_labels = \" \".join(labels)\n",
    "        for ftr in gds.qkfeature_map[qk]:\n",
    "            writer.writerow([ftr, dense_labels])\n",
    "        "
   ]
  },
  {
   "cell_type": "code",
   "execution_count": 58,
   "metadata": {},
   "outputs": [
    {
     "data": {
      "text/html": [
       "<table>\n",
       "<thead>\n",
       "<tr><th>#                                  </th><th>Feature                                            </th><th>Labels                                             </th></tr>\n",
       "</thead>\n",
       "<tbody>\n",
       "<tr><td><i style='opacity: 0.6'>0</i>      </td><td>Z33-01331330233122333_1040010052D58500.jpg         </td><td>Road Wood Forest Railway Water Grassland           </td></tr>\n",
       "<tr><td><i style='opacity: 0.6'>1</i>      </td><td>&#x27;Z33-01331330233122333_06480218-b97f-4761-ab0f-4...</td><td>Road Wood Forest Railway Water Grassland           </td></tr>\n",
       "<tr><td><i style='opacity: 0.6'>2</i>      </td><td>&#x27;Z33-01331332032130120_06480218-b97f-4761-ab0f-4...</td><td>&#x27;Park Wood Road Building Pool Parking Residentia...</td></tr>\n",
       "<tr><td><i style='opacity: 0.6'>3</i>      </td><td>&#x27;Z33-01331332012301121_06480218-b97f-4761-ab0f-4...</td><td>Building Residential Wood House                    </td></tr>\n",
       "<tr><td><i style='opacity: 0.6'>4</i>      </td><td>&#x27;Z33-01331332102313023_01280972-72af-433b-9b2c-c...</td><td>Wood Road Building Parking Residential Soccer      </td></tr>\n",
       "<tr><td>...                                </td><td>...                                                </td><td>...                                                </td></tr>\n",
       "<tr><td><i style='opacity: 0.6'>112,780</i></td><td>Z33-01331332013302013_1040010052D58500.jpg         </td><td>Soccer                                             </td></tr>\n",
       "<tr><td><i style='opacity: 0.6'>112,781</i></td><td>&#x27;Z33-01331332013302013_06480218-b97f-4761-ab0f-4...</td><td>Soccer                                             </td></tr>\n",
       "<tr><td><i style='opacity: 0.6'>112,782</i></td><td>Z33-01331332100131031_10400100549CFC00.jpg         </td><td>Soccer                                             </td></tr>\n",
       "<tr><td><i style='opacity: 0.6'>112,783</i></td><td>&#x27;Z33-01331332100131031_b8b3ff19-2d8b-41d6-bd48-2...</td><td>Soccer                                             </td></tr>\n",
       "<tr><td><i style='opacity: 0.6'>112,784</i></td><td>Z33-01331332101013332_10400100549CFC00.jpg         </td><td>Soccer                                             </td></tr>\n",
       "</tbody>\n",
       "</table>"
      ],
      "text/plain": [
       "#        Feature                                              Labels\n",
       "0        Z33-01331330233122333_1040010052D58500.jpg           Road Wood Forest Railway Water Grassland\n",
       "1        'Z33-01331330233122333_06480218-b97f-4761-ab0f-4...  Road Wood Forest Railway Water Grassland\n",
       "2        'Z33-01331332032130120_06480218-b97f-4761-ab0f-4...  'Park Wood Road Building Pool Parking Residentia...\n",
       "3        'Z33-01331332012301121_06480218-b97f-4761-ab0f-4...  Building Residential Wood House\n",
       "4        'Z33-01331332102313023_01280972-72af-433b-9b2c-c...  Wood Road Building Parking Residential Soccer\n",
       "...      ...                                                  ...\n",
       "112,780  Z33-01331332013302013_1040010052D58500.jpg           Soccer\n",
       "112,781  'Z33-01331332013302013_06480218-b97f-4761-ab0f-4...  Soccer\n",
       "112,782  Z33-01331332100131031_10400100549CFC00.jpg           Soccer\n",
       "112,783  'Z33-01331332100131031_b8b3ff19-2d8b-41d6-bd48-2...  Soccer\n",
       "112,784  Z33-01331332101013332_10400100549CFC00.jpg           Soccer"
      ]
     },
     "execution_count": 58,
     "metadata": {},
     "output_type": "execute_result"
    }
   ],
   "source": [
    "dense = vx.from_csv(\"/home/ubuntu/data/dense_encodings.csv\")\n",
    "dense"
   ]
  },
  {
   "cell_type": "code",
   "execution_count": null,
   "metadata": {},
   "outputs": [],
   "source": []
  },
  {
   "cell_type": "code",
   "execution_count": 56,
   "metadata": {},
   "outputs": [],
   "source": [
    "del dense\n"
   ]
  },
  {
   "cell_type": "code",
   "execution_count": null,
   "metadata": {},
   "outputs": [],
   "source": []
  },
  {
   "cell_type": "code",
   "execution_count": null,
   "metadata": {},
   "outputs": [],
   "source": []
  },
  {
   "cell_type": "code",
   "execution_count": null,
   "metadata": {},
   "outputs": [],
   "source": [
    "gds.qkfeature_map"
   ]
  },
  {
   "cell_type": "code",
   "execution_count": 61,
   "metadata": {},
   "outputs": [],
   "source": [
    "def build_chip_map(img_chips=None):\n",
    "    if not img_chips:\n",
    "        img_chips = load_nodata_scores()['all_data']\n",
    "    qkimg_map = collections.defaultdict(list)\n",
    "    for img_chip in img_chips:\n",
    "        qkimg_map[img_chip[4:21]].append(img_chip)\n",
    "    return qkimg_map    "
   ]
  },
  {
   "cell_type": "code",
   "execution_count": 62,
   "metadata": {},
   "outputs": [],
   "source": [
    "qkimg_map = build_chip_map()\n"
   ]
  },
  {
   "cell_type": "code",
   "execution_count": 63,
   "metadata": {},
   "outputs": [
    {
     "data": {
      "text/plain": [
       "71666"
      ]
     },
     "execution_count": 63,
     "metadata": {},
     "output_type": "execute_result"
    }
   ],
   "source": []
  },
  {
   "cell_type": "code",
   "execution_count": 50,
   "metadata": {},
   "outputs": [],
   "source": [
    "def filter_nodata_from_record():\n",
    "    valid_chips = load_nodata_scores()['all_data']\n",
    "    valid_qks = list(set([f[4:21] for f in valid_chips]))\n",
    "    qks_to_filter = set(dd.TileQuadkey.unique()).intersection(set(valid_qks))\n",
    "    return list(qks_to_filter)"
   ]
  },
  {
   "cell_type": "code",
   "execution_count": 51,
   "metadata": {},
   "outputs": [
    {
     "data": {
      "text/plain": [
       "71664"
      ]
     },
     "execution_count": 51,
     "metadata": {},
     "output_type": "execute_result"
    }
   ],
   "source": [
    "qks_to_filter = filter_nodata_from_record()\n",
    "len(qks_to_filter)"
   ]
  },
  {
   "cell_type": "code",
   "execution_count": 52,
   "metadata": {},
   "outputs": [],
   "source": [
    "dd_filt = dd[dd.TileQuadkey.isin(qks_to_filter)]"
   ]
  },
  {
   "cell_type": "code",
   "execution_count": 54,
   "metadata": {},
   "outputs": [
    {
     "data": {
      "text/plain": [
       "2595186"
      ]
     },
     "execution_count": 54,
     "metadata": {},
     "output_type": "execute_result"
    }
   ],
   "source": [
    "len(dd_filt)"
   ]
  },
  {
   "cell_type": "code",
   "execution_count": 56,
   "metadata": {},
   "outputs": [
    {
     "data": {
      "text/plain": [
       "2821690"
      ]
     },
     "execution_count": 56,
     "metadata": {},
     "output_type": "execute_result"
    }
   ],
   "source": [
    "len(dd)"
   ]
  },
  {
   "cell_type": "code",
   "execution_count": 57,
   "metadata": {},
   "outputs": [
    {
     "data": {
      "text/plain": [
       "2821690"
      ]
     },
     "execution_count": 57,
     "metadata": {},
     "output_type": "execute_result"
    }
   ],
   "source": []
  },
  {
   "cell_type": "code",
   "execution_count": 22,
   "metadata": {},
   "outputs": [
    {
     "data": {
      "text/plain": [
       "32981"
      ]
     },
     "execution_count": 22,
     "metadata": {},
     "output_type": "execute_result"
    }
   ],
   "source": []
  },
  {
   "cell_type": "code",
   "execution_count": 10,
   "metadata": {},
   "outputs": [],
   "source": []
  },
  {
   "cell_type": "code",
   "execution_count": 26,
   "metadata": {},
   "outputs": [
    {
     "data": {
      "text/plain": [
       "dict_keys(['Grassland', 'Wood', 'Forest', 'Residential', 'Railway', 'Building', 'House', 'Road', 'Water', 'Parking', 'Pool', 'Park', 'Soccer'])"
      ]
     },
     "execution_count": 26,
     "metadata": {},
     "output_type": "execute_result"
    }
   ],
   "source": [
    "labels.keys()"
   ]
  },
  {
   "cell_type": "code",
   "execution_count": 12,
   "metadata": {},
   "outputs": [],
   "source": [
    "pkeys = itertools.chain.from_iterable([vals.keys() for lbl, vals in labels.items()])"
   ]
  },
  {
   "cell_type": "code",
   "execution_count": 13,
   "metadata": {},
   "outputs": [
    {
     "data": {
      "text/plain": [
       "['landuse',\n",
       " 'building',\n",
       " 'railway',\n",
       " 'amenity',\n",
       " 'waterway',\n",
       " 'leisure',\n",
       " 'natural',\n",
       " 'highway']"
      ]
     },
     "execution_count": 13,
     "metadata": {},
     "output_type": "execute_result"
    }
   ],
   "source": [
    "pkeys = list(set(pkeys))\n",
    "pkeys"
   ]
  },
  {
   "cell_type": "code",
   "execution_count": 27,
   "metadata": {},
   "outputs": [
    {
     "data": {
      "text/plain": [
       "{'Grassland': {'natural': ['heath', 'grassland', 'scrub'],\n",
       "  'landuse': ['meadow']},\n",
       " 'Wood': {'natural': ['wood', 'tree', 'deciduous']},\n",
       " 'Forest': {'landuse': ['forest']},\n",
       " 'Residential': {'landuse': ['residential'],\n",
       "  'building': ['residential'],\n",
       "  'highway': ['residential']},\n",
       " 'Railway': {'landuse': ['railway'], 'railway': ['rail']},\n",
       " 'Building': {'building': ['yes']},\n",
       " 'House': {'building': ['house']},\n",
       " 'Road': {'highway': ['motorway',\n",
       "   'trunk',\n",
       "   'primary',\n",
       "   'secondary',\n",
       "   'tertiary',\n",
       "   'track',\n",
       "   'unclassified']},\n",
       " 'Water': {'waterway': ['river'], 'natural': ['water']},\n",
       " 'Parking': {'amenity': ['parking']},\n",
       " 'Pool': {'leisure': ['pool']},\n",
       " 'Park': {'leisure': ['park']},\n",
       " 'Soccer': {'leisure': ['pitch']}}"
      ]
     },
     "execution_count": 27,
     "metadata": {},
     "output_type": "execute_result"
    }
   ],
   "source": [
    "labels"
   ]
  },
  {
   "cell_type": "code",
   "execution_count": null,
   "metadata": {},
   "outputs": [],
   "source": [
    "df = vaex.open(\"/home/ubuntu/data/ard/33/*/training_data.csv\", convert=\"/home/ubuntu/data/training_data.hdf5\")"
   ]
  },
  {
   "cell_type": "code",
   "execution_count": null,
   "metadata": {},
   "outputs": [],
   "source": [
    "labels = dict()\n",
    "plt.figure(figsize=(16, 4))\n",
    "r.plot(kind='bar')"
   ]
  },
  {
   "cell_type": "code",
   "execution_count": null,
   "metadata": {},
   "outputs": [],
   "source": [
    "natural = qklbls[qklbls.PrimaryKey.str.contains(\"natural\")]\n",
    "natural"
   ]
  },
  {
   "cell_type": "code",
   "execution_count": null,
   "metadata": {},
   "outputs": [],
   "source": [
    "plt.figure(figsize=(12, 4))\n",
    "natural.KeyValue.value_counts().plot(kind='bar', title=\"natural\")"
   ]
  },
  {
   "cell_type": "code",
   "execution_count": 10,
   "metadata": {},
   "outputs": [],
   "source": [
    "labels[\"Grassland\"] = {\"natural\": [\"heath\", \"grassland\", \"scrub\"]}\n",
    "labels[\"Wood\"] = {\"natural\": [\"wood\", \"tree\", \"deciduous\"]}"
   ]
  },
  {
   "cell_type": "code",
   "execution_count": null,
   "metadata": {},
   "outputs": [],
   "source": [
    "landuse = qklbls[qklbls.PrimaryKey.str.contains(\"landuse\")]\n",
    "landuse"
   ]
  },
  {
   "cell_type": "code",
   "execution_count": null,
   "metadata": {},
   "outputs": [],
   "source": [
    "plt.figure(figsize=(12, 4))\n",
    "landuse.KeyValue.value_counts().plot(kind='bar', title=\"landuse\")"
   ]
  },
  {
   "cell_type": "code",
   "execution_count": 11,
   "metadata": {},
   "outputs": [
    {
     "data": {
      "text/plain": [
       "{'Grassland': {'natural': ['heath', 'grassland', 'scrub'],\n",
       "  'landuse': ['meadow']},\n",
       " 'Wood': {'natural': ['wood', 'tree', 'deciduous']},\n",
       " 'Forest': {'landuse': ['forest']},\n",
       " 'Residential': {'landuse': ['residential']},\n",
       " 'Railway': {'landuse': ['railway']}}"
      ]
     },
     "execution_count": 11,
     "metadata": {},
     "output_type": "execute_result"
    }
   ],
   "source": [
    "labels[\"Grassland\"][\"landuse\"] = [\"meadow\"]\n",
    "labels[\"Forest\"] = {\"landuse\": [\"forest\"]}\n",
    "labels[\"Residential\"] = {\"landuse\": [\"residential\"]}\n",
    "labels[\"Railway\"] = {\"landuse\": [\"railway\"]}\n",
    "labels"
   ]
  },
  {
   "cell_type": "code",
   "execution_count": null,
   "metadata": {},
   "outputs": [],
   "source": [
    "building = qklbls[qklbls.PrimaryKey.str.contains(\"building\")]\n",
    "building"
   ]
  },
  {
   "cell_type": "code",
   "execution_count": null,
   "metadata": {},
   "outputs": [],
   "source": [
    "plt.figure(figsize=(12, 4))\n",
    "building.KeyValue.value_counts().head(20).plot(kind='bar', title=\"building\")"
   ]
  },
  {
   "cell_type": "code",
   "execution_count": 12,
   "metadata": {},
   "outputs": [
    {
     "data": {
      "text/plain": [
       "{'Grassland': {'natural': ['heath', 'grassland', 'scrub'],\n",
       "  'landuse': ['meadow']},\n",
       " 'Wood': {'natural': ['wood', 'tree', 'deciduous']},\n",
       " 'Forest': {'landuse': ['forest']},\n",
       " 'Residential': {'landuse': ['residential'], 'building': ['residential']},\n",
       " 'Railway': {'landuse': ['railway']},\n",
       " 'Building': {'building': ['yes']},\n",
       " 'House': {'building': ['house']}}"
      ]
     },
     "execution_count": 12,
     "metadata": {},
     "output_type": "execute_result"
    }
   ],
   "source": [
    "labels[\"Building\"] = {\"building\": [\"yes\"]}\n",
    "labels[\"Residential\"][\"building\"] = [\"residential\"]\n",
    "labels[\"House\"] = {\"building\": [\"house\"]}\n",
    "labels"
   ]
  },
  {
   "cell_type": "code",
   "execution_count": null,
   "metadata": {},
   "outputs": [],
   "source": [
    "highway = qklbls[qklbls.PrimaryKey.str.contains(\"highway\")]\n",
    "highway"
   ]
  },
  {
   "cell_type": "code",
   "execution_count": null,
   "metadata": {},
   "outputs": [],
   "source": [
    "plt.figure(figsize=(12, 4))\n",
    "highway.KeyValue.value_counts().head(20).plot(kind='bar', title=\"highway\")"
   ]
  },
  {
   "cell_type": "code",
   "execution_count": 13,
   "metadata": {},
   "outputs": [
    {
     "data": {
      "text/plain": [
       "{'Grassland': {'natural': ['heath', 'grassland', 'scrub'],\n",
       "  'landuse': ['meadow']},\n",
       " 'Wood': {'natural': ['wood', 'tree', 'deciduous']},\n",
       " 'Forest': {'landuse': ['forest']},\n",
       " 'Residential': {'landuse': ['residential'],\n",
       "  'building': ['residential'],\n",
       "  'highway': ['residential']},\n",
       " 'Railway': {'landuse': ['railway']},\n",
       " 'Building': {'building': ['yes']},\n",
       " 'House': {'building': ['house']},\n",
       " 'Road': {'highway': ['motorway',\n",
       "   'trunk',\n",
       "   'primary',\n",
       "   'secondary',\n",
       "   'tertiary',\n",
       "   'track',\n",
       "   'unclassified']}}"
      ]
     },
     "execution_count": 13,
     "metadata": {},
     "output_type": "execute_result"
    }
   ],
   "source": [
    "labels[\"Residential\"][\"highway\"] = [\"residential\"]\n",
    "labels[\"Road\"] = {\"highway\": [\"motorway\", \"trunk\", \"primary\", \"secondary\", \"tertiary\", \"track\", \"unclassified\"]}\n",
    "labels"
   ]
  },
  {
   "cell_type": "code",
   "execution_count": null,
   "metadata": {},
   "outputs": [],
   "source": [
    "waterway = qklbls[qklbls.PrimaryKey.str.contains(\"waterway\")]\n",
    "waterway"
   ]
  },
  {
   "cell_type": "code",
   "execution_count": null,
   "metadata": {},
   "outputs": [],
   "source": [
    "plt.figure(figsize=(12, 4))\n",
    "waterway.KeyValue.value_counts().head(30).plot(kind='bar', title=\"waterway\")"
   ]
  },
  {
   "cell_type": "code",
   "execution_count": 14,
   "metadata": {},
   "outputs": [
    {
     "data": {
      "text/plain": [
       "{'Grassland': {'natural': ['heath', 'grassland', 'scrub'],\n",
       "  'landuse': ['meadow']},\n",
       " 'Wood': {'natural': ['wood', 'tree', 'deciduous']},\n",
       " 'Forest': {'landuse': ['forest']},\n",
       " 'Residential': {'landuse': ['residential'],\n",
       "  'building': ['residential'],\n",
       "  'highway': ['residential']},\n",
       " 'Railway': {'landuse': ['railway']},\n",
       " 'Building': {'building': ['yes']},\n",
       " 'House': {'building': ['house']},\n",
       " 'Road': {'highway': ['motorway',\n",
       "   'trunk',\n",
       "   'primary',\n",
       "   'secondary',\n",
       "   'tertiary',\n",
       "   'track',\n",
       "   'unclassified']},\n",
       " 'Water': {'waterway': ['river'], 'natural': ['water']}}"
      ]
     },
     "execution_count": 14,
     "metadata": {},
     "output_type": "execute_result"
    }
   ],
   "source": [
    "labels[\"Water\"] = {\"waterway\": [\"river\"], \"natural\": [\"water\"]}\n",
    "labels"
   ]
  },
  {
   "cell_type": "code",
   "execution_count": null,
   "metadata": {},
   "outputs": [],
   "source": [
    "railway = qklbls[qklbls.PrimaryKey.str.contains(\"railway\")]\n",
    "railway"
   ]
  },
  {
   "cell_type": "code",
   "execution_count": null,
   "metadata": {},
   "outputs": [],
   "source": [
    "plt.figure(figsize=(12, 4))\n",
    "railway.KeyValue.value_counts().head(30).plot(kind='bar', title=\"railway\")"
   ]
  },
  {
   "cell_type": "code",
   "execution_count": 15,
   "metadata": {},
   "outputs": [
    {
     "data": {
      "text/plain": [
       "{'Grassland': {'natural': ['heath', 'grassland', 'scrub'],\n",
       "  'landuse': ['meadow']},\n",
       " 'Wood': {'natural': ['wood', 'tree', 'deciduous']},\n",
       " 'Forest': {'landuse': ['forest']},\n",
       " 'Residential': {'landuse': ['residential'],\n",
       "  'building': ['residential'],\n",
       "  'highway': ['residential']},\n",
       " 'Railway': {'landuse': ['railway'], 'railway': ['rail']},\n",
       " 'Building': {'building': ['yes']},\n",
       " 'House': {'building': ['house']},\n",
       " 'Road': {'highway': ['motorway',\n",
       "   'trunk',\n",
       "   'primary',\n",
       "   'secondary',\n",
       "   'tertiary',\n",
       "   'track',\n",
       "   'unclassified']},\n",
       " 'Water': {'waterway': ['river'], 'natural': ['water']}}"
      ]
     },
     "execution_count": 15,
     "metadata": {},
     "output_type": "execute_result"
    }
   ],
   "source": [
    "labels[\"Railway\"][\"railway\"] = [\"rail\"]\n",
    "labels"
   ]
  },
  {
   "cell_type": "code",
   "execution_count": null,
   "metadata": {},
   "outputs": [],
   "source": [
    "amenity = qklbls[qklbls.PrimaryKey.str.contains(\"amenity\")]\n",
    "amenity"
   ]
  },
  {
   "cell_type": "code",
   "execution_count": null,
   "metadata": {},
   "outputs": [],
   "source": [
    "plt.figure(figsize=(12, 4))\n",
    "amenity.KeyValue.value_counts().head(30).plot(kind='bar', title=\"amenity\")"
   ]
  },
  {
   "cell_type": "code",
   "execution_count": 16,
   "metadata": {},
   "outputs": [
    {
     "data": {
      "text/plain": [
       "{'Grassland': {'natural': ['heath', 'grassland', 'scrub'],\n",
       "  'landuse': ['meadow']},\n",
       " 'Wood': {'natural': ['wood', 'tree', 'deciduous']},\n",
       " 'Forest': {'landuse': ['forest']},\n",
       " 'Residential': {'landuse': ['residential'],\n",
       "  'building': ['residential'],\n",
       "  'highway': ['residential']},\n",
       " 'Railway': {'landuse': ['railway'], 'railway': ['rail']},\n",
       " 'Building': {'building': ['yes']},\n",
       " 'House': {'building': ['house']},\n",
       " 'Road': {'highway': ['motorway',\n",
       "   'trunk',\n",
       "   'primary',\n",
       "   'secondary',\n",
       "   'tertiary',\n",
       "   'track',\n",
       "   'unclassified']},\n",
       " 'Water': {'waterway': ['river'], 'natural': ['water']},\n",
       " 'Parking': {'amenity': ['parking']}}"
      ]
     },
     "execution_count": 16,
     "metadata": {},
     "output_type": "execute_result"
    }
   ],
   "source": [
    "labels[\"Parking\"] = {\"amenity\": [\"parking\"]}\n",
    "labels"
   ]
  },
  {
   "cell_type": "code",
   "execution_count": null,
   "metadata": {},
   "outputs": [],
   "source": [
    "leisure = qklbls[qklbls.PrimaryKey.str.contains(\"leisure\")]\n",
    "leisure"
   ]
  },
  {
   "cell_type": "code",
   "execution_count": null,
   "metadata": {},
   "outputs": [],
   "source": [
    "plt.figure(figsize=(12, 4))\n",
    "leisure.KeyValue.value_counts().plot(kind='bar', title=\"leisue\")"
   ]
  },
  {
   "cell_type": "code",
   "execution_count": 17,
   "metadata": {},
   "outputs": [
    {
     "data": {
      "text/plain": [
       "{'Grassland': {'natural': ['heath', 'grassland', 'scrub'],\n",
       "  'landuse': ['meadow']},\n",
       " 'Wood': {'natural': ['wood', 'tree', 'deciduous']},\n",
       " 'Forest': {'landuse': ['forest']},\n",
       " 'Residential': {'landuse': ['residential'],\n",
       "  'building': ['residential'],\n",
       "  'highway': ['residential']},\n",
       " 'Railway': {'landuse': ['railway'], 'railway': ['rail']},\n",
       " 'Building': {'building': ['yes']},\n",
       " 'House': {'building': ['house']},\n",
       " 'Road': {'highway': ['motorway',\n",
       "   'trunk',\n",
       "   'primary',\n",
       "   'secondary',\n",
       "   'tertiary',\n",
       "   'track',\n",
       "   'unclassified']},\n",
       " 'Water': {'waterway': ['river'], 'natural': ['water']},\n",
       " 'Parking': {'amenity': ['parking']},\n",
       " 'Pool': {'leisure': ['pool']},\n",
       " 'Park': {'leisure': ['park']},\n",
       " 'Soccer': {'leisure': ['pitch']}}"
      ]
     },
     "execution_count": 17,
     "metadata": {},
     "output_type": "execute_result"
    }
   ],
   "source": [
    "labels[\"Pool\"] = {\"leisure\": [\"pool\"]}\n",
    "labels[\"Park\"] = {\"leisure\": [\"park\"]}\n",
    "labels[\"Soccer\"] = {\"leisure\": [\"pitch\"]}\n",
    "labels"
   ]
  },
  {
   "cell_type": "code",
   "execution_count": 31,
   "metadata": {},
   "outputs": [
    {
     "name": "stdout",
     "output_type": "stream",
     "text": [
      "01331330232300332\n"
     ]
    }
   ],
   "source": [
    "with open(\"/home/ubuntu/data/labels.json\", \"w\") as f:\n",
    "    json.dump(labels, f)"
   ]
  },
  {
   "cell_type": "code",
   "execution_count": null,
   "metadata": {},
   "outputs": [],
   "source": [
    "ndf = pd.DataFcoordsrom_records(osm_nodes)\n",
    "ndf = gpd.GeoDataFrame(ndf, geometry=gpd.points_from_xy(ndf.lon, ndf.lat), crs=WORLD_CRS)\n",
    "#ndf.set_crs(crs=WORLD_CRS, inplace=True)\n",
    "ndf.head()"
   ]
  },
  {
   "cell_type": "code",
   "execution_count": null,
   "metadata": {},
   "outputs": [],
   "source": [
    "parent_tile = proj.tile_from_quadkey(qk)\n",
    "chillun_tiles = get_children_at_zoom([parent_tile], 17)\n",
    "chide = chillun_tiles[0]\n",
    "ndf.to_crs(crs=chide.crs, inplace=True)\n",
    "ndf.head()"
   ]
  },
  {
   "cell_type": "code",
   "execution_count": null,
   "metadata": {},
   "outputs": [],
   "source": [
    "qkdf = {\"quadkey\": [c.quadkey for c in chillun_tiles], \"geometry\": [geom.shape(c) for c in chillun_tiles]}\n",
    "qkdf = gpd.GeoDataFrame(qkdf, crs=chide.crs)\n",
    "qkdf.head()"
   ]
  },
  {
   "cell_type": "code",
   "execution_count": null,
   "metadata": {},
   "outputs": [],
   "source": [
    "%%time\n",
    "nqkdf = gpd.sjoin(ndf, qkdf, how=\"inner\", op=\"intersects\")\n",
    "nqkdf"
   ]
  },
  {
   "cell_type": "code",
   "execution_count": null,
   "metadata": {},
   "outputs": [],
   "source": [
    "def close_viswins():\n",
    "    vis.close(imgrid)\n",
    "    vis.close(properties_window)\n",
    "\n",
    "def load_chip_array(data_score=\"all_data\", n=12, indices=None, quality_map=ndix, chip_path=CHIP_PATH):\n",
    "    if not indices:\n",
    "        sample_space = range(0, len(ndix[data_score]) - 1)\n",
    "        indices = random.sample(sample_space, n)\n",
    "    images = [io.imread(os.path.join(chip_path, quality_map[data_score][idx])) for idx in indices]\n",
    "    return [img.transpose(2, 0, 1) for img in images]\n",
    "\n",
    "images = load_chip_array()\n",
    "\n",
    "\n",
    "imgrid_opts = dict(title='chip_sample_viewer', caption=\"whatever\")\n",
    "imgrid = vis.images(images, padding=4, nrow=4, opts=imgrid_opts)\n",
    "\n",
    "#vis.close(imgrid)\n",
    "\n",
    "\n",
    "properties = [\n",
    "    {'type': 'number', 'name': 'Image sample size', 'value': '12'},\n",
    "    {'type': 'button', 'name': 'Button', 'value': 'Resample'},\n",
    "    {'type': 'select', 'name': 'Select', 'value': \"1\", 'values': [\"all_data\", \"partial_data\", \"no_data\"]},\n",
    "]\n",
    "\n",
    "properties_window = vis.properties(properties, env='main')\n",
    "\n",
    "def properties_callback(event):\n",
    "    if event['event_type'] == 'PropertyUpdate':\n",
    "        prop_id = event['propertyId']\n",
    "        value = event['value']\n",
    "        new_value = value\n",
    "        if prop_id != 1:\n",
    "            properties[prop_id]['value'] = new_value\n",
    "        vis.properties(properties, win=properties_window)\n",
    "        score_idx = int(properties[2]['value'])\n",
    "        data_score = properties[2]['values'][score_idx]\n",
    "        images = load_chip_array(data_score=data_score, n=int(properties[0]['value']))\n",
    "        vis.images(images, padding=4, nrow=4, opts=imgrid_opts, win=imgrid)\n",
    "        \n",
    "\n",
    "vis.register_event_handler(properties_callback, properties_window)"
   ]
  },
  {
   "cell_type": "code",
   "execution_count": 38,
   "metadata": {},
   "outputs": [],
   "source": [
    "class SkywayDataCatalog:\n",
    "    _tiler = WNUTM5kmTiling()\n",
    "    _qkp_root = qkp\n",
    "    \n",
    "    def __init__(self, \n",
    "                 utm_zone=33,\n",
    "                 tilezoom=17, \n",
    "                 sources_basepath=DATA_PATH,\n",
    "                 outputs_basepath=\"/home/ubuntu/data/chips\",\n",
    "                 input_nominatim=\"primary_osm_data_filtered.json\",\n",
    "                 nodata_index=\"nodata_index.json\",\n",
    "                 quadkeys=None,\n",
    "                 ):\n",
    "        \n",
    "        self.utm_zone = utm_zone\n",
    "        self.tilezoom = tilezoom\n",
    "        self.sources_path = os.path.join(sources_basepath, str(utm_zone))\n",
    "        self.outputs_path = os.path.join(outputs_basepath, str(utm_zone))\n",
    "        self._quadkeys = quadkeys\n",
    "        \n",
    "        with open(os.path.join(self.outputs_path, nodata_index)) as f:\n",
    "            self.image_tiles = json.load(f).get(\"all_data\")\n",
    "        \n",
    "        self._qkp_child = quadkey_regex(zoom=tilezoom)\n",
    "        self.tiler = ProjectedUTMTiling(utm_zone, self._tiler)\n",
    "        self.__gi__ = None\n",
    "    \n",
    "    @property\n",
    "    def qkroots(self):\n",
    "        if not self._quadkeys:\n",
    "            with os.scandir(self.sources_path) as it:\n",
    "                self._quadkeys = [qk.name for qk in it if self._qkp_root.match(qk.name)]\n",
    "        return self._quadkeys\n",
    "    \n",
    "    @property\n",
    "    def num_qks(self):\n",
    "        return len(self.qkroots)\n",
    "    \n",
    "    @property\n",
    "    def area_coverage(self, units='m'):\n",
    "        return str((5_000 * 5_000) * self.nqks) + ' ' + units + '^2'\n",
    "    \n",
    "    def __getitem__(self, quadkey):\n",
    "        if quadkey not in self.qkroots:\n",
    "            raise KeyError(\"Out of bounds\")\n",
    "        return self.tiler.tile_from_quadkey(quadkey)\n",
    "    \n",
    "    def __iter__(self):\n",
    "        tiles = np.array([self.tiler._tiler.quadkey_to_tile(qk)\n",
    "                      for qk in self.qkroots], dtype=GeoTile.dtype)\n",
    "        for tile in np.sort(tiles, order=['iy', 'ix']):\n",
    "            yield self.tiler._tf(tt.base.Tile(*tile))\n",
    "    \n",
    "    def iter_geoms(self):\n",
    "        for tile in iter(self):\n",
    "            with WGS84Transformer(tile) as geotile:\n",
    "                yield geotile.asShape\n",
    "            \n",
    "    @property\n",
    "    def __geo_interface__(self):\n",
    "        if self.__gi__ is None:\n",
    "            self.__gi__ = itrreduce(ops.unary_union,\n",
    "                                    self.iter_geoms()).__geo_interface__\n",
    "        return self.__gi__\n",
    "    \n",
    "    @property\n",
    "    def asShape(self):\n",
    "        return geom.asShape(self)\n",
    "    \n",
    "    @property\n",
    "    def centroid(self):\n",
    "        return self.asShape.centroid\n",
    "    \n",
    "    @property\n",
    "    def map_center(self):\n",
    "        return (self.centroid.y, self.centroid.x)\n",
    "    \n",
    "    def get_geojson(self):\n",
    "        fc = {\"type\": \"FeatureCollection\",\n",
    "              \"features\": list()\n",
    "             }\n",
    "    \n",
    "        for qkroot_tile in iter(self):\n",
    "            with WGS84Transformer(qkroot_tile) as t:\n",
    "                fc[\"features\"].append(to_gjson(t))\n",
    "        \n",
    "        return fc\n",
    "    \n",
    "\n",
    "    \n",
    "            \n",
    "    \n",
    "sdc = SkywayDataCatalog()"
   ]
  },
  {
   "cell_type": "code",
   "execution_count": null,
   "metadata": {},
   "outputs": [],
   "source": [
    "from rasterio.plot import show as rashow\n",
    "\n",
    "\n",
    "def overview(impath):\n",
    "    with rasterio.open(impath) as src:\n",
    "        plt.figure(figsize=(10,10))\n",
    "        arr = src.read(out_shape=(3, int(src.height / 16), int(src.width / 16)))[..., 32:1056, 32:1056]\n",
    "        rashow(arr)\n",
    "    return arr\n",
    "    \n",
    "class TileViewer:\n",
    "    def __init__(self, tc, qk):\n",
    "        self.tc = tc\n",
    "        self.qk = qk\n",
    "        self.path = tc.qk_path + \"/{}\".format(qk)\n",
    "        self.tifs = [f for f in os.listdir(self.path) if f[-4:] == \".tif\"]\n",
    "        self.fpaths = [self.path + \"/\" + tif for tif in self.tifs]"
   ]
  },
  {
   "cell_type": "code",
   "execution_count": null,
   "metadata": {},
   "outputs": [],
   "source": [
    "\n",
    "try:\n",
    "    del m\n",
    "except:\n",
    "    pass\n",
    "\n",
    "# %%time\n",
    "\n",
    "\n",
    "m = Map(center=sdc.map_center, zoom=8)\n",
    "#m.clear_layers()\n",
    "m.add_layer(TileLayer(url=tms_url))\n",
    "\n",
    "geo_json = GeoJSON(data=sdc.get_geojson(), style = {'color': 'red', 'opacity':1, 'weight':1.9, 'fillOpacity':0.1})\n",
    "\n",
    "html = widgets.HTML('''Hover over a tile''')\n",
    "html.layout.margin = '0px 20px 20px 20px'\n",
    "control = WidgetControl(widget=html, position='topright')\n",
    "m.add_control(control)\n",
    "\n",
    "def update_html(feature, **kwargs):\n",
    "    html.value = '''\n",
    "    <h3><b>{}</b><h3>\n",
    "    <h4>Tile Index: ({}, {})</h4>\n",
    "    '''.format(feature['properties']['tile_id'],\n",
    "               feature['properties']['ix'],\n",
    "               feature['properties']['iy'])\n",
    "    \n",
    "geo_json.on_hover(update_html)\n",
    "\n",
    "sc = Sidecar(title=\"whatever\")\n",
    "with sc:\n",
    "    display(m)"
   ]
  },
  {
   "cell_type": "code",
   "execution_count": null,
   "metadata": {},
   "outputs": [],
   "source": [
    "from ipyleaflet import TileLayer"
   ]
  },
  {
   "cell_type": "code",
   "execution_count": null,
   "metadata": {},
   "outputs": [],
   "source": [
    "tms_url = 'http://localhost:8000/{z}/{x}/{y}'\n",
    "bm = {'url': tms_url, 'attribution': 'A big Butt'}"
   ]
  },
  {
   "cell_type": "code",
   "execution_count": null,
   "metadata": {},
   "outputs": [],
   "source": [
    "m.add_layer(geo_json);\n"
   ]
  },
  {
   "cell_type": "code",
   "execution_count": null,
   "metadata": {},
   "outputs": [],
   "source": [
    "ardtiles = basemap_to_tiles(bm)"
   ]
  },
  {
   "cell_type": "code",
   "execution_count": null,
   "metadata": {},
   "outputs": [],
   "source": [
    "m.add_layer(ardtiles)"
   ]
  },
  {
   "cell_type": "code",
   "execution_count": null,
   "metadata": {},
   "outputs": [],
   "source": [
    "m.clear_layers()\n",
    "del m"
   ]
  },
  {
   "cell_type": "code",
   "execution_count": null,
   "metadata": {},
   "outputs": [],
   "source": [
    "display(basemaps)"
   ]
  },
  {
   "cell_type": "code",
   "execution_count": null,
   "metadata": {},
   "outputs": [],
   "source": [
    "basemap_to_tiles??"
   ]
  },
  {
   "cell_type": "code",
   "execution_count": null,
   "metadata": {},
   "outputs": [],
   "source": [
    "from rio_tiler.io.cogeo import COGReader\n",
    "from cogeo_mosaic.mosaic import MosaicJSON\n",
    "from cogeo_mosaic.backends import MosaicBackend\n",
    "import mercantile\n",
    "\n",
    "from rio_tiler_mosaic.mosaic import mosaic_tiler\n",
    "from rio_tiler_mosaic.methods import defaults\n",
    "\n",
    "from rio_tiler_mosaic.methods.base import MosaicMethodBase\n",
    "\n",
    "from rio_tiler.profiles import img_profiles\n",
    "\n",
    "\n",
    "from rasterio.plot import reshape_as_image\n",
    "\n",
    "#mosaic_def = MosaicJSON.from_urls(cog_paths)\n",
    "#with MosaicBackend(\"/home/ubuntu/data/ard/33/mosaic.json\", mosaic_def=mosaic_def) as mos:\n",
    "#    mos.write(overwrite=True)\n",
    "    \n",
    "mosaic = MosaicBackend(\"/home/ubuntu/data/ard/33/mosaic.json\")\n",
    "\n",
    "mtile = mercantile.quadkey_to_tile('120210232133')\n",
    "\n",
    "(arr, mask), assets = mosaic.tile(mtile.x, mtile.y, mtile.z)\n",
    "\n",
    "fig = plt.figure(figsize=(30, 10))\n",
    "\n",
    "ax = fig.add_subplot(1, 2, 1)\n",
    "ax.imshow(reshape_as_image(arr))\n",
    "\n",
    "ax = fig.add_subplot(1, 2, 2)\n",
    "ax.imshow(mask)"
   ]
  },
  {
   "cell_type": "code",
   "execution_count": null,
   "metadata": {},
   "outputs": [],
   "source": [
    "mtile"
   ]
  },
  {
   "cell_type": "code",
   "execution_count": null,
   "metadata": {},
   "outputs": [],
   "source": [
    "mosaic.reader_options"
   ]
  },
  {
   "cell_type": "code",
   "execution_count": null,
   "metadata": {},
   "outputs": [],
   "source": []
  }
 ],
 "metadata": {
  "kernelspec": {
   "display_name": "Python 3",
   "language": "python",
   "name": "python3"
  },
  "language_info": {
   "codemirror_mode": {
    "name": "ipython",
    "version": 3
   },
   "file_extension": ".py",
   "mimetype": "text/x-python",
   "name": "python",
   "nbconvert_exporter": "python",
   "pygments_lexer": "ipython3",
   "version": "3.7.3"
  }
 },
 "nbformat": 4,
 "nbformat_minor": 4
}
