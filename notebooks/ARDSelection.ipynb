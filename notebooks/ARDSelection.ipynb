{
 "cells": [
  {
   "cell_type": "code",
   "execution_count": 1,
   "metadata": {},
   "outputs": [],
   "source": [
    "from tdg_layers.tiles import Tiles\n",
    "from tdg_layers.api_config import ApiConfig\n",
    "\n",
    "#api_config = ApiConfig(root_url='https://ard-dev.geobigdata.io/layers')\n",
    "#Tiles.layer_id = 'ard-tiles-dev'"
   ]
  },
  {
   "cell_type": "code",
   "execution_count": 2,
   "metadata": {},
   "outputs": [],
   "source": [
    "from tdg_layers.tiles import Tiles, Notification\n",
    "\n",
    "# notifications = []\n",
    "# for notification_email_address in notification_email_addresses:\n",
    "#     notifications.append(Notification(‘email’, notification_email_address, verbose=True))\n",
    "# post_data = {\n",
    "#     “acquisition_ids”: catalog_ids,\n",
    "#     “output_bucket”: destination_bucket,\n",
    "#     “output_prefix”: destination_prefix,\n",
    "#     “formats”: formats,\n",
    "#     “notifications”: notifications,\n",
    "#     “blackfill_limit”: blackfill_limit,\n",
    "#     “bundle_adjust”: bundle_adjust,\n",
    "#     “aoi”: aoi\n",
    "# } (edited) "
   ]
  },
  {
   "cell_type": "markdown",
   "metadata": {},
   "source": [
    "### Berlin"
   ]
  },
  {
   "cell_type": "code",
   "execution_count": 3,
   "metadata": {},
   "outputs": [],
   "source": [
    "berlin_image_ids = [\"1040010052D58500\",\n",
    "             \"10400100549CFC00\",\n",
    "             \"06480218-b97f-4761-ab0f-40a9e7920d76-inv\",\n",
    "             \"b8b3ff19-2d8b-41d6-bd48-2b2e75ab69b8-inv\",\n",
    "             \"062d02be-3a17-4129-82a2-592437f6c450-inv\",\n",
    "             \"01280972-72af-433b-9b2c-cc71ec19614e-inv\",\n",
    "            ]"
   ]
  },
  {
   "cell_type": "code",
   "execution_count": 7,
   "metadata": {},
   "outputs": [],
   "source": [
    "request = {\n",
    "    \"acquisition_ids\": berlin_image_ids,\n",
    "    \"aoi\": None,\n",
    "    \"output_bucket\": \"maxar-analytics-data\",\n",
    "    \"output_prefix\": \"imagesim-ard\",\n",
    "    \"formats\": [\"visual\"],\n",
    "    \"notifications\": [Notification('email', 'rjpolackwich@gmail.com', verbose=True)],\n",
    "    \"blackfill_limit\": 100.0,\n",
    "    \"bundle_adjust\": False,\n",
    "    \n",
    "}"
   ]
  },
  {
   "cell_type": "code",
   "execution_count": null,
   "metadata": {},
   "outputs": [],
   "source": []
  },
  {
   "cell_type": "code",
   "execution_count": 8,
   "metadata": {},
   "outputs": [],
   "source": [
    "berlin_order_info = Tiles.order(**request)"
   ]
  },
  {
   "cell_type": "code",
   "execution_count": 10,
   "metadata": {},
   "outputs": [
    {
     "data": {
      "text/plain": [
       "{'id': '5427571813350285119',\n",
       " 'state': 'ERROR',\n",
       " 'state_details': {'message': 'This user has exceeded the number of inflight orders. Please wait until they are finished processing',\n",
       "  '_request_id': '5427571813350285119'},\n",
       " 'response_timestamp': '2020-07-02T19:57:45Z',\n",
       " 'status': [{'message': 'Your ARD Tile order has started'}]}"
      ]
     },
     "execution_count": 10,
     "metadata": {},
     "output_type": "execute_result"
    }
   ],
   "source": [
    "berlin_order_info.status()"
   ]
  },
  {
   "cell_type": "markdown",
   "metadata": {},
   "source": [
    "### Austin"
   ]
  },
  {
   "cell_type": "code",
   "execution_count": 5,
   "metadata": {},
   "outputs": [
    {
     "data": {
      "text/plain": [
       "<tdg_layers.layer_actions.Order at 0x10688ebe0>"
      ]
     },
     "execution_count": 5,
     "metadata": {},
     "output_type": "execute_result"
    }
   ],
   "source": [
    "berlin_order_info"
   ]
  },
  {
   "cell_type": "code",
   "execution_count": null,
   "metadata": {},
   "outputs": [],
   "source": []
  },
  {
   "cell_type": "code",
   "execution_count": 4,
   "metadata": {},
   "outputs": [],
   "source": [
    "atx_image_ids = [\n",
    "    \"104001004EB48700\",\n",
    "    \"10400100481F9500\",]"
   ]
  },
  {
   "cell_type": "markdown",
   "metadata": {},
   "source": [
    "### New York"
   ]
  },
  {
   "cell_type": "code",
   "execution_count": 5,
   "metadata": {},
   "outputs": [],
   "source": [
    "ny_image_ids = [\"104001005C373400\",\n",
    "               \"104001005A37C000\",\n",
    "               \"104001005B3CD300\",\n",
    "               \"1040010053321600\",\n",
    "               \"1040010051337400\",\n",
    "               \"1040010048482000\"]"
   ]
  },
  {
   "cell_type": "markdown",
   "metadata": {},
   "source": [
    "### Denver"
   ]
  },
  {
   "cell_type": "code",
   "execution_count": 6,
   "metadata": {},
   "outputs": [],
   "source": [
    "den_image_ids = [\"104001005A086E00\",\n",
    "                \"104001005D5B2900\",\n",
    "                \"104001005BAFDD00\",\n",
    "                \"104001005BA94200\",\n",
    "                \"69382b73-7840-4008-a044-5337cce1bc6c-inv\"]"
   ]
  },
  {
   "cell_type": "markdown",
   "metadata": {},
   "source": [
    "### London"
   ]
  },
  {
   "cell_type": "code",
   "execution_count": 10,
   "metadata": {},
   "outputs": [],
   "source": [
    "london_image_ids = [\"1040010058B70A00\",\n",
    "                   \"37e92c44-0a39-47e1-b9fc-b425301c3ec3-inv\",\n",
    "                   \"4f9ff4cc-bcaf-4e17-98af-7c6fbc48c4b2-inv\",\n",
    "                   ]"
   ]
  },
  {
   "cell_type": "markdown",
   "metadata": {},
   "source": [
    "### All IDs"
   ]
  },
  {
   "cell_type": "code",
   "execution_count": 8,
   "metadata": {},
   "outputs": [],
   "source": [
    "all_ids = []\n",
    "all_ids.extend(berlin_image_ids)\n",
    "all_ids.extend(atx_image_ids)\n",
    "all_ids.extend(ny_image_ids)\n",
    "all_ids.extend(den_image_ids)\n",
    "all_ids.extend(london_image_ids)"
   ]
  },
  {
   "cell_type": "code",
   "execution_count": 9,
   "metadata": {},
   "outputs": [
    {
     "data": {
      "text/plain": [
       "['1040010052D58500',\n",
       " '10400100549CFC00',\n",
       " '06480218-b97f-4761-ab0f-40a9e7920d76-inv',\n",
       " 'b8b3ff19-2d8b-41d6-bd48-2b2e75ab69b8-inv',\n",
       " '062d02be-3a17-4129-82a2-592437f6c450-inv',\n",
       " '01280972-72af-433b-9b2c-cc71ec19614e-inv',\n",
       " '104001004EB48700',\n",
       " '10400100481F9500',\n",
       " '104001005C373400',\n",
       " '104001005A37C000',\n",
       " '104001005B3CD300',\n",
       " '1040010053321600',\n",
       " '1040010051337400',\n",
       " '1040010048482000',\n",
       " '104001005A086E00',\n",
       " '104001005D5B2900',\n",
       " '104001005BAFDD00',\n",
       " '104001005BA94200',\n",
       " '69382b73-7840-4008-a044-5337cce1bc6c-inv',\n",
       " '1040010058B70A00',\n",
       " '37e92c44-0a39-47e1-b9fc-b425301c3ec3-inv',\n",
       " '4f9ff4cc-bcaf-4e17-98af-7c6fbc48c4b2-inv']"
      ]
     },
     "execution_count": 9,
     "metadata": {},
     "output_type": "execute_result"
    }
   ],
   "source": [
    "all_ids"
   ]
  },
  {
   "cell_type": "code",
   "execution_count": 11,
   "metadata": {},
   "outputs": [],
   "source": [
    "request = {\n",
    "    \"acquisition_ids\": all_ids,\n",
    "    \"aoi\": None,\n",
    "    \"output_bucket\": \"maxar-analytics-data\",\n",
    "    \"output_prefix\": \"imagesim-ard\",\n",
    "    \"formats\": [\"visual\"],\n",
    "    \"notifications\": [Notification('email', 'rjpolackwich@gmail.com', verbose=True)],\n",
    "    \"blackfill_limit\": 100.0,\n",
    "    \"bundle_adjust\": False,\n",
    "    \n",
    "}"
   ]
  },
  {
   "cell_type": "code",
   "execution_count": 12,
   "metadata": {},
   "outputs": [],
   "source": [
    "full_order = Tiles.order(**request)"
   ]
  },
  {
   "cell_type": "code",
   "execution_count": 13,
   "metadata": {},
   "outputs": [
    {
     "data": {
      "text/plain": [
       "{'id': '5430233247511435708',\n",
       " 'state': 'RUNNING',\n",
       " 'state_details': {'submitted_time': '2020-07-06T12:04:07Z'},\n",
       " 'response_timestamp': '2020-07-06T12:04:24Z',\n",
       " 'status': [{'message': 'Your ARD Tile order has started'}]}"
      ]
     },
     "execution_count": 13,
     "metadata": {},
     "output_type": "execute_result"
    }
   ],
   "source": [
    "full_order.status()"
   ]
  },
  {
   "cell_type": "code",
   "execution_count": null,
   "metadata": {},
   "outputs": [],
   "source": []
  }
 ],
 "metadata": {
  "kernelspec": {
   "display_name": "Python 3",
   "language": "python",
   "name": "python3"
  },
  "language_info": {
   "codemirror_mode": {
    "name": "ipython",
    "version": 3
   },
   "file_extension": ".py",
   "mimetype": "text/x-python",
   "name": "python",
   "nbconvert_exporter": "python",
   "pygments_lexer": "ipython3",
   "version": "3.7.3"
  }
 },
 "nbformat": 4,
 "nbformat_minor": 4
}
